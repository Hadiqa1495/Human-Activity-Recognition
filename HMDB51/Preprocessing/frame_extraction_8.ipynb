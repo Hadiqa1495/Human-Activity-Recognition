{
 "cells": [
  {
   "cell_type": "code",
   "execution_count": 1,
   "metadata": {},
   "outputs": [
    {
     "name": "stderr",
     "output_type": "stream",
     "text": [
      "Using TensorFlow backend.\n"
     ]
    }
   ],
   "source": [
    "import os\n",
    "import pandas as pd\n",
    "import cv2     # for capturing videos\n",
    "import math   # for mathematical operations\n",
    "import matplotlib.pyplot as plt    # for plotting the images\n",
    "%matplotlib inline\n",
    "import pandas as pd\n",
    "from keras.preprocessing import image   # for preprocessing the images\n",
    "import numpy as np    # for mathematical operations\n",
    "from keras.utils import np_utils\n",
    "from skimage.transform import resize   # for resizing images\n",
    "from sklearn.model_selection import train_test_split\n",
    "from glob import glob\n",
    "from tqdm import tqdm"
   ]
  },
  {
   "cell_type": "code",
   "execution_count": 2,
   "metadata": {},
   "outputs": [
    {
     "name": "stdout",
     "output_type": "stream",
     "text": [
      "['brush_hair', 'cartwheel', 'catch', 'chew', 'clap', 'climb', 'climb_stairs', 'dive', 'draw_sword', 'dribble', 'drink', 'eat', 'fall_floor', 'fencing', 'flic_flac', 'golf', 'handstand', 'hit', 'hug', 'jump', 'kick', 'kick_ball', 'kiss', 'laugh', 'pick', 'pour', 'pullup', 'punch', 'push', 'pushup', 'ride_bike', 'ride_horse', 'run', 'shake_hands', 'shoot_ball', 'shoot_bow', 'shoot_gun', 'sit', 'situp', 'smile', 'smoke', 'somersault', 'stand', 'swing_baseball', 'sword', 'sword_exercise', 'talk', 'throw', 'turn', 'walk', 'wave']\n"
     ]
    },
    {
     "data": {
      "text/html": [
       "<div>\n",
       "<style scoped>\n",
       "    .dataframe tbody tr th:only-of-type {\n",
       "        vertical-align: middle;\n",
       "    }\n",
       "\n",
       "    .dataframe tbody tr th {\n",
       "        vertical-align: top;\n",
       "    }\n",
       "\n",
       "    .dataframe thead th {\n",
       "        text-align: right;\n",
       "    }\n",
       "</style>\n",
       "<table border=\"1\" class=\"dataframe\">\n",
       "  <thead>\n",
       "    <tr style=\"text-align: right;\">\n",
       "      <th></th>\n",
       "      <th>video_name</th>\n",
       "    </tr>\n",
       "  </thead>\n",
       "  <tbody>\n",
       "    <tr>\n",
       "      <th>0</th>\n",
       "      <td>brush_hair/April_09_brush_hair_u_nm_np1_ba_goo...</td>\n",
       "    </tr>\n",
       "    <tr>\n",
       "      <th>1</th>\n",
       "      <td>brush_hair/April_09_brush_hair_u_nm_np1_ba_goo...</td>\n",
       "    </tr>\n",
       "    <tr>\n",
       "      <th>2</th>\n",
       "      <td>brush_hair/April_09_brush_hair_u_nm_np1_ba_goo...</td>\n",
       "    </tr>\n",
       "    <tr>\n",
       "      <th>3</th>\n",
       "      <td>brush_hair/Aussie_Brunette_Brushing_Hair_II_br...</td>\n",
       "    </tr>\n",
       "    <tr>\n",
       "      <th>4</th>\n",
       "      <td>brush_hair/Aussie_Brunette_Brushing_Hair_II_br...</td>\n",
       "    </tr>\n",
       "  </tbody>\n",
       "</table>\n",
       "</div>"
      ],
      "text/plain": [
       "                                          video_name\n",
       "0  brush_hair/April_09_brush_hair_u_nm_np1_ba_goo...\n",
       "1  brush_hair/April_09_brush_hair_u_nm_np1_ba_goo...\n",
       "2  brush_hair/April_09_brush_hair_u_nm_np1_ba_goo...\n",
       "3  brush_hair/Aussie_Brunette_Brushing_Hair_II_br...\n",
       "4  brush_hair/Aussie_Brunette_Brushing_Hair_II_br..."
      ]
     },
     "execution_count": 2,
     "metadata": {},
     "output_type": "execute_result"
    }
   ],
   "source": [
    "location=r'E:\\Thesis\\HMDB/data/train2'\n",
    "classes=[]\n",
    "videos=[]\n",
    "train=pd.DataFrame()\n",
    "for foldername in sorted(os.listdir(location)):\n",
    "    classes.append(foldername)\n",
    "    for files in sorted(os.listdir(location+'/'+foldername)):\n",
    "        videos.append(foldername+'/'+files)\n",
    "train['video_name']=videos\n",
    "print(classes)\n",
    "train.head()"
   ]
  },
  {
   "cell_type": "code",
   "execution_count": 3,
   "metadata": {},
   "outputs": [],
   "source": [
    "# creating tags for training videos\n",
    "train_video_tag = []\n",
    "for i in range(train.shape[0]):\n",
    "    train_video_tag.append(train['video_name'][i].split('/')[0])\n",
    "    \n",
    "train['tag'] = train_video_tag"
   ]
  },
  {
   "cell_type": "code",
   "execution_count": 4,
   "metadata": {},
   "outputs": [
    {
     "name": "stderr",
     "output_type": "stream",
     "text": [
      "100%|██████████| 6766/6766 [48:32<00:00,  2.79it/s]  \n"
     ]
    }
   ],
   "source": [
    "train_data = pd.DataFrame(columns=['image','class'])\n",
    "# storing the frames from training videos\n",
    "for i in tqdm(range(train.shape[0])):\n",
    "    count = 0\n",
    "    videoFile = train['video_name'][i]\n",
    "    classname=videoFile.split(' ')[0].split('/')[0]\n",
    "#    print('../data/train/'+videoFile.split(' ')[0].split('/')[0]+'/'+videoFile.split(' ')[0].split('/')[1])\n",
    "    cap = cv2.VideoCapture(r'E:\\Thesis\\HMDB/data/train2/'+videoFile.split(' ')[0].split('/')[0]+'/'+videoFile.split(' ')[0].split('/')[1])   # capturing the video from the given path\n",
    "    frameRate = cap.get(5) #frame rate\n",
    "    # print(frameRate)\n",
    "    ret, frame1 = cap.read()\n",
    "    length = int(cap.get(cv2.CAP_PROP_FRAME_COUNT))\n",
    "    step=length/9\n",
    "    # print('step')\n",
    "    # print(step)\n",
    "    x=1\n",
    "    while(cap.isOpened()):\n",
    "        frameId = cap.get(1) #current frame number\n",
    "        ret, frame = cap.read()\n",
    "        if (ret != True):\n",
    "            break\n",
    "        if (frameId % math.floor(step) == 0):\n",
    "            if(count>7):\n",
    "                # print(count)\n",
    "                break\n",
    "            name=(videoFile.split('/')[1]).split('.')[0];\n",
    "            filename =r'E:\\Thesis\\HMDB/data/train2_frame_8/' + name +\"_frame%d.jpg\" % count;\n",
    "            imgname=name +\"_frame%d.jpg\" % count            \n",
    "            train_data=train_data.append({'image':imgname,'class':classname},ignore_index=True)\n",
    "#            print(filename)\n",
    "            cv2.imwrite(filename, frame)\n",
    "            count+=1\n",
    "    # print('frames written')\n",
    "    # print(count)\n",
    "    cap.release()"
   ]
  },
  {
   "cell_type": "code",
   "execution_count": 5,
   "metadata": {},
   "outputs": [
    {
     "data": {
      "text/html": [
       "<div>\n",
       "<style scoped>\n",
       "    .dataframe tbody tr th:only-of-type {\n",
       "        vertical-align: middle;\n",
       "    }\n",
       "\n",
       "    .dataframe tbody tr th {\n",
       "        vertical-align: top;\n",
       "    }\n",
       "\n",
       "    .dataframe thead th {\n",
       "        text-align: right;\n",
       "    }\n",
       "</style>\n",
       "<table border=\"1\" class=\"dataframe\">\n",
       "  <thead>\n",
       "    <tr style=\"text-align: right;\">\n",
       "      <th></th>\n",
       "      <th>image</th>\n",
       "      <th>class</th>\n",
       "    </tr>\n",
       "  </thead>\n",
       "  <tbody>\n",
       "    <tr>\n",
       "      <th>0</th>\n",
       "      <td>April_09_brush_hair_u_nm_np1_ba_goo_0_frame0.jpg</td>\n",
       "      <td>brush_hair</td>\n",
       "    </tr>\n",
       "    <tr>\n",
       "      <th>1</th>\n",
       "      <td>April_09_brush_hair_u_nm_np1_ba_goo_0_frame1.jpg</td>\n",
       "      <td>brush_hair</td>\n",
       "    </tr>\n",
       "    <tr>\n",
       "      <th>2</th>\n",
       "      <td>April_09_brush_hair_u_nm_np1_ba_goo_0_frame2.jpg</td>\n",
       "      <td>brush_hair</td>\n",
       "    </tr>\n",
       "    <tr>\n",
       "      <th>3</th>\n",
       "      <td>April_09_brush_hair_u_nm_np1_ba_goo_0_frame3.jpg</td>\n",
       "      <td>brush_hair</td>\n",
       "    </tr>\n",
       "    <tr>\n",
       "      <th>4</th>\n",
       "      <td>April_09_brush_hair_u_nm_np1_ba_goo_0_frame4.jpg</td>\n",
       "      <td>brush_hair</td>\n",
       "    </tr>\n",
       "  </tbody>\n",
       "</table>\n",
       "</div>"
      ],
      "text/plain": [
       "                                              image       class\n",
       "0  April_09_brush_hair_u_nm_np1_ba_goo_0_frame0.jpg  brush_hair\n",
       "1  April_09_brush_hair_u_nm_np1_ba_goo_0_frame1.jpg  brush_hair\n",
       "2  April_09_brush_hair_u_nm_np1_ba_goo_0_frame2.jpg  brush_hair\n",
       "3  April_09_brush_hair_u_nm_np1_ba_goo_0_frame3.jpg  brush_hair\n",
       "4  April_09_brush_hair_u_nm_np1_ba_goo_0_frame4.jpg  brush_hair"
      ]
     },
     "execution_count": 5,
     "metadata": {},
     "output_type": "execute_result"
    }
   ],
   "source": [
    "train_data.head()"
   ]
  },
  {
   "cell_type": "code",
   "execution_count": 6,
   "metadata": {},
   "outputs": [
    {
     "data": {
      "text/plain": [
       "image    54128\n",
       "class       51\n",
       "dtype: int64"
      ]
     },
     "execution_count": 6,
     "metadata": {},
     "output_type": "execute_result"
    }
   ],
   "source": [
    "train_data.nunique()"
   ]
  },
  {
   "cell_type": "code",
   "execution_count": 7,
   "metadata": {},
   "outputs": [],
   "source": [
    "# converting the dataframe into csv file \n",
    "train_data.to_csv('../data/train2_8.csv',header=True, index=False)"
   ]
  },
  {
   "cell_type": "code",
   "execution_count": 8,
   "metadata": {},
   "outputs": [
    {
     "data": {
      "text/html": [
       "<div>\n",
       "<style scoped>\n",
       "    .dataframe tbody tr th:only-of-type {\n",
       "        vertical-align: middle;\n",
       "    }\n",
       "\n",
       "    .dataframe tbody tr th {\n",
       "        vertical-align: top;\n",
       "    }\n",
       "\n",
       "    .dataframe thead th {\n",
       "        text-align: right;\n",
       "    }\n",
       "</style>\n",
       "<table border=\"1\" class=\"dataframe\">\n",
       "  <thead>\n",
       "    <tr style=\"text-align: right;\">\n",
       "      <th></th>\n",
       "      <th>image</th>\n",
       "      <th>class</th>\n",
       "    </tr>\n",
       "  </thead>\n",
       "  <tbody>\n",
       "    <tr>\n",
       "      <th>0</th>\n",
       "      <td>April_09_brush_hair_u_nm_np1_ba_goo_0_frame0.jpg</td>\n",
       "      <td>brush_hair</td>\n",
       "    </tr>\n",
       "    <tr>\n",
       "      <th>1</th>\n",
       "      <td>April_09_brush_hair_u_nm_np1_ba_goo_0_frame1.jpg</td>\n",
       "      <td>brush_hair</td>\n",
       "    </tr>\n",
       "    <tr>\n",
       "      <th>2</th>\n",
       "      <td>April_09_brush_hair_u_nm_np1_ba_goo_0_frame2.jpg</td>\n",
       "      <td>brush_hair</td>\n",
       "    </tr>\n",
       "    <tr>\n",
       "      <th>3</th>\n",
       "      <td>April_09_brush_hair_u_nm_np1_ba_goo_0_frame3.jpg</td>\n",
       "      <td>brush_hair</td>\n",
       "    </tr>\n",
       "    <tr>\n",
       "      <th>4</th>\n",
       "      <td>April_09_brush_hair_u_nm_np1_ba_goo_0_frame4.jpg</td>\n",
       "      <td>brush_hair</td>\n",
       "    </tr>\n",
       "  </tbody>\n",
       "</table>\n",
       "</div>"
      ],
      "text/plain": [
       "                                              image       class\n",
       "0  April_09_brush_hair_u_nm_np1_ba_goo_0_frame0.jpg  brush_hair\n",
       "1  April_09_brush_hair_u_nm_np1_ba_goo_0_frame1.jpg  brush_hair\n",
       "2  April_09_brush_hair_u_nm_np1_ba_goo_0_frame2.jpg  brush_hair\n",
       "3  April_09_brush_hair_u_nm_np1_ba_goo_0_frame3.jpg  brush_hair\n",
       "4  April_09_brush_hair_u_nm_np1_ba_goo_0_frame4.jpg  brush_hair"
      ]
     },
     "execution_count": 8,
     "metadata": {},
     "output_type": "execute_result"
    }
   ],
   "source": [
    "train = pd.read_csv('../data/train2_8.csv')\n",
    "train.head()"
   ]
  }
 ],
 "metadata": {
  "kernelspec": {
   "display_name": "Python 3 (ipykernel)",
   "language": "python",
   "name": "python3"
  },
  "language_info": {
   "codemirror_mode": {
    "name": "ipython",
    "version": 3
   },
   "file_extension": ".py",
   "mimetype": "text/x-python",
   "name": "python",
   "nbconvert_exporter": "python",
   "pygments_lexer": "ipython3",
   "version": "3.11.7"
  }
 },
 "nbformat": 4,
 "nbformat_minor": 2
}
